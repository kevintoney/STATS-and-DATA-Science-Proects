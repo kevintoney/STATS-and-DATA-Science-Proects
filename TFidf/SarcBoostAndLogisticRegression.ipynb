{
 "cells": [
  {
   "cell_type": "markdown",
   "metadata": {},
   "source": [
    "# Sarcasm Detection Using XGBoost and Logistic Regression"
   ]
  },
  {
   "cell_type": "code",
   "execution_count": 1,
   "metadata": {},
   "outputs": [],
   "source": [
    "########\n",
    "#some eda from https://www.kaggle.com/danofer/loading-sarcasm-data\n",
    "import pandas as pd # data processing, CSV file I/O (e.g. pd.read_csv)\n",
    "from subprocess import check_output\n",
    "from matplotlib import pyplot as plot\n",
    "import os\n",
    "import numpy as np\n",
    "import xgboost\n",
    "from sklearn.feature_extraction.text import TfidfVectorizer, CountVectorizer\n",
    "from sklearn.linear_model import LogisticRegression\n",
    "from sklearn.pipeline import Pipeline\n",
    "from sklearn.model_selection import train_test_split\n",
    "from sklearn.metrics import accuracy_score, confusion_matrix\n",
    "from sklearn import preprocessing, metrics, svm"
   ]
  },
  {
   "cell_type": "markdown",
   "metadata": {},
   "source": [
    "##Data Exploration\n",
    "\n",
    "Repeating a portion of the data exploration from YURY KASHNITSKY: https://www.kaggle.com/kashnitsky/a4-demo-sarcasm-detection-with-logit-solution"
   ]
  },
  {
   "cell_type": "code",
   "execution_count": 2,
   "metadata": {},
   "outputs": [
    {
     "name": "stdout",
     "output_type": "stream",
     "text": [
      "(1010826, 10)\n",
      "Index(['label', 'comment', 'author', 'subreddit', 'score', 'ups', 'downs',\n",
      "       'date', 'created_utc', 'parent_comment'],\n",
      "      dtype='object')\n"
     ]
    },
    {
     "data": {
      "text/plain": [
       "['Oh sure, the *black* duck has to be the angry one...',\n",
       " \"I'm sure they'll outlive the new Domino's that's going in.\",\n",
       " \"I bet it's Seager.\",\n",
       " 'How dare you post a shot of your computer while actually using it!',\n",
       " 'Because its not like the breaks are there for stopping or anything.',\n",
       " 'Screw this computer, it doesnt even have a Touchbar',\n",
       " 'Yes however we retain a modicum of culture',\n",
       " 'Nah, google + integration is better.',\n",
       " \"because they haven't been competitive all year long\",\n",
       " 'But if they do, rents will become unaffordable... oh wait, right, never mind.']"
      ]
     },
     "execution_count": 2,
     "metadata": {},
     "output_type": "execute_result"
    },
    {
     "data": {
      "image/png": "[encoded data removed]",
      "text/plain": [
       "<Figure size 432x288 with 1 Axes>"
      ]
     },
     "metadata": {
      "needs_background": "light"
     },
     "output_type": "display_data"
    }
   ],
   "source": [
    "train = pd.read_csv(\"C:/Users/kevin/Desktop/Career Prep/Kevin work Portfolio/Personal Project/sarcasm/train-balanced-sarcasm.csv\")\n",
    "print(train.shape)\n",
    "print(train.columns)\n",
    "\n",
    "#drop rows that have missing comments\n",
    "train.dropna(subset=['comment'], inplace=True)\n",
    "\n",
    "# Parse UNIX epoch timestamp as datetime: \n",
    "train.created_utc = pd.to_datetime(train.created_utc,infer_datetime_format=True) # Applies to original data , which had UNIX Epoch timestamp! \n",
    "\n",
    "train.describe()\n",
    "\n",
    "########\n",
    "train['label'].hist() #50 50 split\n",
    "\n",
    "##see a sample of comments\n",
    "train['comment'].sample(10)\n",
    "train[train.label == 1][\"comment\"].sample(10).tolist()"
   ]
  },
  {
   "cell_type": "code",
   "execution_count": 3,
   "metadata": {},
   "outputs": [
    {
     "data": {
      "text/html": [
       "<div>\n",
       "<style scoped>\n",
       "    .dataframe tbody tr th:only-of-type {\n",
       "        vertical-align: middle;\n",
       "    }\n",
       "\n",
       "    .dataframe tbody tr th {\n",
       "        vertical-align: top;\n",
       "    }\n",
       "\n",
       "    .dataframe thead th {\n",
       "        text-align: right;\n",
       "    }\n",
       "</style>\n",
       "<table border=\"1\" class=\"dataframe\">\n",
       "  <thead>\n",
       "    <tr style=\"text-align: right;\">\n",
       "      <th></th>\n",
       "      <th>size</th>\n",
       "      <th>mean</th>\n",
       "      <th>sum</th>\n",
       "    </tr>\n",
       "    <tr>\n",
       "      <th>author</th>\n",
       "      <th></th>\n",
       "      <th></th>\n",
       "      <th></th>\n",
       "    </tr>\n",
       "  </thead>\n",
       "  <tbody>\n",
       "    <tr>\n",
       "      <th>Canada_girl</th>\n",
       "      <td>300</td>\n",
       "      <td>0.500000</td>\n",
       "      <td>150</td>\n",
       "    </tr>\n",
       "    <tr>\n",
       "      <th>Chaoslab</th>\n",
       "      <td>252</td>\n",
       "      <td>0.500000</td>\n",
       "      <td>126</td>\n",
       "    </tr>\n",
       "    <tr>\n",
       "      <th>NeonDisease</th>\n",
       "      <td>422</td>\n",
       "      <td>0.500000</td>\n",
       "      <td>211</td>\n",
       "    </tr>\n",
       "    <tr>\n",
       "      <th>ShyBiDude89</th>\n",
       "      <td>404</td>\n",
       "      <td>0.500000</td>\n",
       "      <td>202</td>\n",
       "    </tr>\n",
       "    <tr>\n",
       "      <th>ivsciguy</th>\n",
       "      <td>342</td>\n",
       "      <td>0.500000</td>\n",
       "      <td>171</td>\n",
       "    </tr>\n",
       "    <tr>\n",
       "      <th>mad-n-fla</th>\n",
       "      <td>318</td>\n",
       "      <td>0.500000</td>\n",
       "      <td>159</td>\n",
       "    </tr>\n",
       "    <tr>\n",
       "      <th>mindlessrabble</th>\n",
       "      <td>302</td>\n",
       "      <td>0.500000</td>\n",
       "      <td>151</td>\n",
       "    </tr>\n",
       "    <tr>\n",
       "      <th>pokemon_fetish</th>\n",
       "      <td>432</td>\n",
       "      <td>0.500000</td>\n",
       "      <td>216</td>\n",
       "    </tr>\n",
       "    <tr>\n",
       "      <th>Biffingston</th>\n",
       "      <td>845</td>\n",
       "      <td>0.499408</td>\n",
       "      <td>422</td>\n",
       "    </tr>\n",
       "    <tr>\n",
       "      <th>sleaze_bag_alert</th>\n",
       "      <td>251</td>\n",
       "      <td>0.498008</td>\n",
       "      <td>125</td>\n",
       "    </tr>\n",
       "  </tbody>\n",
       "</table>\n",
       "</div>"
      ],
      "text/plain": [
       "                  size      mean  sum\n",
       "author                               \n",
       "Canada_girl        300  0.500000  150\n",
       "Chaoslab           252  0.500000  126\n",
       "NeonDisease        422  0.500000  211\n",
       "ShyBiDude89        404  0.500000  202\n",
       "ivsciguy           342  0.500000  171\n",
       "mad-n-fla          318  0.500000  159\n",
       "mindlessrabble     302  0.500000  151\n",
       "pokemon_fetish     432  0.500000  216\n",
       "Biffingston        845  0.499408  422\n",
       "sleaze_bag_alert   251  0.498008  125"
      ]
     },
     "execution_count": 3,
     "metadata": {},
     "output_type": "execute_result"
    }
   ],
   "source": [
    "#how many comments are in each subreddit?\n",
    "train.groupby([\"subreddit\"]).count()[\"comment\"].sort_values()\n",
    "\n",
    "#learn more about the subreddits and the frequency of sarcastic labels\n",
    "sub_df = train.groupby('subreddit')['label'].agg([np.size, np.mean, np.sum])\n",
    "sub_df.sort_values(by='sum', ascending=False).head(10)\n",
    "sub_df[sub_df['size'] > 1000].sort_values(by='mean', ascending=False).head(10)\n",
    "\n",
    "#learn more about authors and the frequency of sarcastic labels\n",
    "author_df = train.groupby('author')['label'].agg([np.size, np.mean, np.sum])\n",
    "author_df.sort_values(by='sum', ascending=False).head(10)\n",
    "author_df[author_df['size'] > 250].sort_values(by='mean', ascending=False).head(10)\n"
   ]
  },
  {
   "cell_type": "code",
   "execution_count": 4,
   "metadata": {},
   "outputs": [
    {
     "name": "stdout",
     "output_type": "stream",
     "text": [
      "(758079,) (252694,) (758079,) (252694,)\n"
     ]
    },
    {
     "data": {
      "text/plain": [
       "'\\n#take small sample for testing\\ntrain_texts_small = train_texts.sample(600, random_state=27)\\ny_train_small = y_train.sample(600, random_state=27)\\nvalid_texts_small = valid_texts.sample(600, random_state=27)\\ny_valid_small = y_valid.sample(600, random_state=27)\\n'"
      ]
     },
     "execution_count": 4,
     "metadata": {},
     "output_type": "execute_result"
    }
   ],
   "source": [
    "#split the df into training and validation parts\n",
    "train_texts, valid_texts, y_train, y_valid = \\\n",
    "        train_test_split(train['comment'], train['label'], random_state=17)\n",
    "        \n",
    "print(train_texts.shape, valid_texts.shape, y_train.shape, y_valid.shape)\n",
    "\n",
    "'''\n",
    "#take small sample for testing\n",
    "train_texts_small = train_texts.sample(600, random_state=27)\n",
    "y_train_small = y_train.sample(600, random_state=27)\n",
    "valid_texts_small = valid_texts.sample(600, random_state=27)\n",
    "y_valid_small = y_valid.sample(600, random_state=27)\n",
    "'''\n",
    "\n"
   ]
  },
  {
   "cell_type": "markdown",
   "metadata": {},
   "source": [
    "##Preprocessing with NLTK"
   ]
  },
  {
   "cell_type": "markdown",
   "metadata": {},
   "source": [
    "Porter Stemming was inspired by the following source: \n",
    "https://medium.com/@chrisfotache/text-classification-in-python-pipelines-nlp-nltk-tf-idf-xgboost-and-more-b83451a327e0\n",
    "\n",
    "The classifier function's source is the following: \n",
    "https://www.analyticsvidhya.com/blog/2018/04/a-comprehensive-guide-to-understand-and-implement-text-classification-in-python/"
   ]
  },
  {
   "cell_type": "code",
   "execution_count": 5,
   "metadata": {},
   "outputs": [
    {
     "name": "stdout",
     "output_type": "stream",
     "text": [
      "Wall time: 23min 42s\n"
     ]
    }
   ],
   "source": [
    "%%time\n",
    "#Consider porter stemming\n",
    "import nltk, re\n",
    "def Tokenizer(str_input):\n",
    "    words = re.sub(r\"[^A-Za-z0-9\\-]\", \" \", str_input).lower().split()\n",
    "    #words = re.search(r'\\w{1,}',str_input).lower().split()\n",
    "    porter_stemmer=nltk.PorterStemmer()\n",
    "    words = [porter_stemmer.stem(word) for word in words]\n",
    "    return words\n",
    "\n",
    "\n",
    "def train_model(classifier, feature_vector_train, label, feature_vector_valid, label_valid,is_neural_net=False):\n",
    "    # fit the training dataset on the classifier\n",
    "    classifier.fit(feature_vector_train, label)\n",
    "    \n",
    "    # predict the labels on validation dataset\n",
    "    predictions = classifier.predict(feature_vector_valid)\n",
    "    \n",
    "    if is_neural_net:\n",
    "        predictions = predictions.argmax(axis=-1)\n",
    "    \n",
    "    return metrics.accuracy_score(predictions, label_valid)\n",
    "    return metrics.classification_report(predictions, label_valid)\n",
    "\n",
    "\n",
    "#count vectors\n",
    "'''\n",
    "count_vect = CountVectorizer(analyzer='word', token_pattern=r'\\w{1,}', ngram_range=(1, 3), max_features=50000, min_df=2, lowercase=True, max_df=0.9)\n",
    "count_vect.fit(train['comment'])\n",
    "\n",
    "#count vectors\n",
    "# transform the training and validation data using count vectorizer object\n",
    "xtrain_count =  count_vect.transform(train_texts)\n",
    "xvalid_count =  count_vect.transform(valid_texts)\n",
    "'''\n",
    "\n",
    "# word and n-gram level tf-idf\n",
    "#tfidf_vect = TfidfVectorizer(analyzer='word', token_pattern=r'\\w{1,}', max_features=50000, ngram_range=(1,3), min_df=2, lowercase=True, max_df=0.9)\n",
    "tfidf_vect = TfidfVectorizer(analyzer='word', tokenizer=Tokenizer, max_features=50000, ngram_range=(1,2), min_df=2, lowercase=True, max_df=0.95)\n",
    "tfidf_vect.fit(train['comment'])\n",
    "xtrain_tfidf =  tfidf_vect.transform(train_texts)\n",
    "xvalid_tfidf =  tfidf_vect.transform(valid_texts)"
   ]
  },
  {
   "cell_type": "markdown",
   "metadata": {},
   "source": [
    "##XGBoost Classifier"
   ]
  },
  {
   "cell_type": "code",
   "execution_count": 6,
   "metadata": {},
   "outputs": [
    {
     "name": "stdout",
     "output_type": "stream",
     "text": [
      "Xgb, WordLevel TF-IDF:  0.6766800952931213\n",
      "Wall time: 10min 23s\n"
     ]
    }
   ],
   "source": [
    "%%time\n",
    "#try XGBoost on word- and ngram-level vectors\n",
    "#accuracy = train_model(xgboost.XGBClassifier(), xtrainSVD, y_train, xvalidSVD)\n",
    "accuracy = train_model(xgboost.XGBClassifier(n_estimators=400), xtrain_tfidf.tocsc(), y_train, xvalid_tfidf.tocsc(), y_valid)\n",
    "print(\"Xgb, WordLevel TF-IDF: \", accuracy)\n",
    "\n",
    "#try XGBoost on count vectors\n",
    "#accuracy = train_model(xgboost.XGBClassifier(n_estimators=400), xtrain_count.tocsc(), y_train, xvalid_count.tocsc())\n",
    "#print(\"Xgb, Count Vectors: \", accuracy)\n"
   ]
  },
  {
   "cell_type": "markdown",
   "metadata": {},
   "source": [
    "##Logistic Regression Classifier"
   ]
  },
  {
   "cell_type": "code",
   "execution_count": 9,
   "metadata": {},
   "outputs": [
    {
     "name": "stdout",
     "output_type": "stream",
     "text": [
      "Logistic Regression:  0.7227080975408993\n",
      "Wall time: 47.8 s\n"
     ]
    }
   ],
   "source": [
    "%%time\n",
    "#logistic regression\n",
    "accuracy = train_model(LogisticRegression(solver='lbfgs', random_state=17, max_iter=1000), xtrain_tfidf, y_train, xvalid_tfidf, y_valid)\n",
    "print(\"Logistic Regression: \", accuracy)\n",
    "\n"
   ]
  }
 ],
 "metadata": {
  "kernelspec": {
   "display_name": "Python 3",
   "language": "python",
   "name": "python3"
  },
  "language_info": {
   "codemirror_mode": {
    "name": "ipython",
    "version": 3
   },
   "file_extension": ".py",
   "mimetype": "text/x-python",
   "name": "python",
   "nbconvert_exporter": "python",
   "pygments_lexer": "ipython3",
   "version": "3.7.0"
  }
 },
 "nbformat": 4,
 "nbformat_minor": 2
}
